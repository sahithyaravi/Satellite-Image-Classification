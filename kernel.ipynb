{
 "cells": [
  {
   "cell_type": "code",
   "execution_count": 34,
   "metadata": {},
   "outputs": [],
   "source": [
    "import numpy as np # linear algebra\n",
    "import pandas as pd # data processing, CSV file I/O (e.g. pd.read_csv)\n",
    "from keras.layers import Conv2D, Flatten, Dropout, Dense, MaxPooling2D, AveragePooling2D\n",
    "from keras.models import Sequential\n",
    "import matplotlib.pyplot as plt"
   ]
  },
  {
   "cell_type": "code",
   "execution_count": 2,
   "metadata": {},
   "outputs": [],
   "source": [
    "xtrain_path = \"X_train_sat4.csv\"\n",
    "ytrain_path = \"y_train_sat4.csv\"\n",
    "xtest_path = \"X_test_sat4.csv\"\n",
    "ytest_path = \"y_test_sat4.csv\""
   ]
  },
  {
   "cell_type": "markdown",
   "metadata": {},
   "source": [
    "Read training data and labels and display training images"
   ]
  },
  {
   "cell_type": "code",
   "execution_count": 3,
   "metadata": {},
   "outputs": [],
   "source": [
    "x_train = pd.read_csv(xtrain_path)\n",
    "y_train = pd.read_csv(ytrain_path)"
   ]
  },
  {
   "cell_type": "code",
   "execution_count": 10,
   "metadata": {},
   "outputs": [
    {
     "name": "stdout",
     "output_type": "stream",
     "text": [
      "no of training examples of size 28*28*4 399999\n"
     ]
    },
    {
     "name": "stderr",
     "output_type": "stream",
     "text": [
      "C:\\Users\\s164255\\anaconda3\\lib\\site-packages\\ipykernel_launcher.py:1: FutureWarning: Method .as_matrix will be removed in a future version. Use .values instead.\n",
      "  \"\"\"Entry point for launching an IPython kernel.\n",
      "C:\\Users\\s164255\\anaconda3\\lib\\site-packages\\ipykernel_launcher.py:2: FutureWarning: Method .as_matrix will be removed in a future version. Use .values instead.\n",
      "  \n"
     ]
    }
   ],
   "source": [
    "x_trainmat = x_train.as_matrix()\n",
    "y_trainmat = y_train.as_matrix()\n",
    "print (\"no of training examples of size 28*28*4\",x_trainmat.shape[0])"
   ]
  },
  {
   "cell_type": "code",
   "execution_count": 12,
   "metadata": {},
   "outputs": [],
   "source": [
    "x_trainmat = x_trainmat.reshape([399999,28,28,4])"
   ]
  },
  {
   "cell_type": "code",
   "execution_count": 31,
   "metadata": {},
   "outputs": [
    {
     "name": "stdout",
     "output_type": "stream",
     "text": [
      "Barren land\n"
     ]
    },
    {
     "data": {
      "image/png": "[encoded data removed]",
      "text/plain": [
       "<Figure size 432x288 with 1 Axes>"
      ]
     },
     "metadata": {
      "needs_background": "light"
     },
     "output_type": "display_data"
    }
   ],
   "source": [
    "imageno = 200\n",
    "plt.imshow(x_trainmat[imageno,:,:,0:3])\n",
    "if(y_trainmat[imageno,0]==1):\n",
    "    print(\"Barren land\")\n",
    "elif(y_trainmat[imageno,1]==1):\n",
    "    print(\"trees\")\n",
    "elif(y_trainmat[imageno,2]==1):\n",
    "    print(\"grassland\")\n",
    "else:\n",
    "    print(\"other\")"
   ]
  },
  {
   "cell_type": "markdown",
   "metadata": {},
   "source": [
    "We will use the LeNet-5 architecture. We’ll also use add dropout layers in between. Dropout regularizes the networks, i.e. it prevents the network from overfitting. All our layers have relu activations except the output layer. Output layer uses softmax activation as it has to output the probability for each of the classes.\n",
    "\n",
    "Sequential is a keras container for linear stack of layers. To attach a fully connected layer (aka dense layer) to a convolutional layer, we will have to reshape/flatten the output of the conv layer. This is achieved by Flatten layer"
   ]
  },
  {
   "cell_type": "code",
   "execution_count": 38,
   "metadata": {},
   "outputs": [
    {
     "name": "stdout",
     "output_type": "stream",
     "text": [
      "WARNING:tensorflow:From C:\\Users\\s164255\\anaconda3\\lib\\site-packages\\tensorflow\\python\\framework\\op_def_library.py:263: colocate_with (from tensorflow.python.framework.ops) is deprecated and will be removed in a future version.\n",
      "Instructions for updating:\n",
      "Colocations handled automatically by placer.\n"
     ]
    }
   ],
   "source": [
    "model = Sequential()\n",
    "model.add(Conv2D(filters=6, kernel_size=(3,3), activation='relu', input_shape =(28,28,4)))\n",
    "model.add(AveragePooling2D())\n",
    "          \n",
    "model.add(Conv2D(filters=16, kernel_size=(3,3), activation='relu'))\n",
    "model.add(AveragePooling2D())\n",
    "          \n",
    "model.add(Flatten())\n",
    "model.add(Dense(units=120, activation='relu'))\n",
    "model.add(Dense(units=84, activation='relu'))\n",
    "model.add(Dense(4, activation='softmax'))\n",
    "        \n"
   ]
  },
  {
   "cell_type": "code",
   "execution_count": 41,
   "metadata": {},
   "outputs": [
    {
     "name": "stdout",
     "output_type": "stream",
     "text": [
      "_________________________________________________________________\n",
      "Layer (type)                 Output Shape              Param #   \n",
      "=================================================================\n",
      "conv2d_1 (Conv2D)            (None, 26, 26, 6)         222       \n",
      "_________________________________________________________________\n",
      "average_pooling2d_1 (Average (None, 13, 13, 6)         0         \n",
      "_________________________________________________________________\n",
      "conv2d_2 (Conv2D)            (None, 11, 11, 16)        880       \n",
      "_________________________________________________________________\n",
      "average_pooling2d_2 (Average (None, 5, 5, 16)          0         \n",
      "_________________________________________________________________\n",
      "flatten_1 (Flatten)          (None, 400)               0         \n",
      "_________________________________________________________________\n",
      "dense_1 (Dense)              (None, 120)               48120     \n",
      "_________________________________________________________________\n",
      "dense_2 (Dense)              (None, 84)                10164     \n",
      "_________________________________________________________________\n",
      "dense_3 (Dense)              (None, 4)                 340       \n",
      "=================================================================\n",
      "Total params: 59,726\n",
      "Trainable params: 59,726\n",
      "Non-trainable params: 0\n",
      "_________________________________________________________________\n"
     ]
    }
   ],
   "source": [
    "model.summary()"
   ]
  },
  {
   "cell_type": "code",
   "execution_count": 42,
   "metadata": {},
   "outputs": [],
   "source": [
    "model.compile(loss='categorical_crossentropy', optimizer = 'adam', metrics=['accuracy'])"
   ]
  },
  {
   "cell_type": "markdown",
   "metadata": {},
   "source": [
    "Fitting the model"
   ]
  },
  {
   "cell_type": "code",
   "execution_count": 43,
   "metadata": {},
   "outputs": [
    {
     "name": "stdout",
     "output_type": "stream",
     "text": [
      "WARNING:tensorflow:From C:\\Users\\s164255\\anaconda3\\lib\\site-packages\\tensorflow\\python\\ops\\math_ops.py:3066: to_int32 (from tensorflow.python.ops.math_ops) is deprecated and will be removed in a future version.\n",
      "Instructions for updating:\n",
      "Use tf.cast instead.\n",
      "Train on 319999 samples, validate on 80000 samples\n",
      "Epoch 1/10\n",
      "319999/319999 [==============================] - 133s 416us/step - loss: 0.7448 - acc: 0.8715 - val_loss: 0.1165 - val_acc: 0.9614\n",
      "Epoch 2/10\n",
      "319999/319999 [==============================] - 115s 360us/step - loss: 0.1189 - acc: 0.9585 - val_loss: 0.1006 - val_acc: 0.9646\n",
      "Epoch 3/10\n",
      "319999/319999 [==============================] - 115s 359us/step - loss: 0.0924 - acc: 0.9677 - val_loss: 0.0775 - val_acc: 0.9741\n",
      "Epoch 4/10\n",
      "319999/319999 [==============================] - 114s 357us/step - loss: 0.0794 - acc: 0.9720 - val_loss: 0.0743 - val_acc: 0.9740\n",
      "Epoch 5/10\n",
      "319999/319999 [==============================] - 115s 359us/step - loss: 0.0692 - acc: 0.9756 - val_loss: 0.0579 - val_acc: 0.9801\n",
      "Epoch 6/10\n",
      "319999/319999 [==============================] - 122s 381us/step - loss: 0.0638 - acc: 0.9778 - val_loss: 0.1047 - val_acc: 0.9632\n",
      "Epoch 7/10\n",
      "319999/319999 [==============================] - 114s 357us/step - loss: 0.0607 - acc: 0.9790 - val_loss: 0.0678 - val_acc: 0.9747\n",
      "Epoch 8/10\n",
      "319999/319999 [==============================] - 114s 357us/step - loss: 0.0562 - acc: 0.9803 - val_loss: 0.0478 - val_acc: 0.9841\n",
      "Epoch 9/10\n",
      "319999/319999 [==============================] - 115s 360us/step - loss: 0.0525 - acc: 0.9816 - val_loss: 0.0583 - val_acc: 0.9798\n",
      "Epoch 10/10\n",
      "319999/319999 [==============================] - 116s 363us/step - loss: 0.0487 - acc: 0.9829 - val_loss: 0.0436 - val_acc: 0.9853\n"
     ]
    },
    {
     "data": {
      "text/plain": [
       "<keras.callbacks.History at 0x1ae41512550>"
      ]
     },
     "execution_count": 43,
     "metadata": {},
     "output_type": "execute_result"
    }
   ],
   "source": [
    "EPOCHS = 10\n",
    "BATCH_SIZE = 128\n",
    "model.fit(x_trainmat, y_trainmat, epochs=EPOCHS, batch_size=BATCH_SIZE, validation_split=0.2)"
   ]
  },
  {
   "cell_type": "code",
   "execution_count": 44,
   "metadata": {},
   "outputs": [
    {
     "name": "stderr",
     "output_type": "stream",
     "text": [
      "C:\\Users\\s164255\\anaconda3\\lib\\site-packages\\ipykernel_launcher.py:3: FutureWarning: Method .as_matrix will be removed in a future version. Use .values instead.\n",
      "  This is separate from the ipykernel package so we can avoid doing imports until\n"
     ]
    },
    {
     "data": {
      "text/plain": [
       "array([[[[164, 139, 111, 196],\n",
       "         [171, 147, 122, 201],\n",
       "         [168, 139, 114, 197],\n",
       "         ...,\n",
       "         [171, 139, 109, 198],\n",
       "         [171, 140, 112, 197],\n",
       "         [172, 142, 116, 197]],\n",
       "\n",
       "        [[165, 144, 115, 197],\n",
       "         [169, 142, 115, 197],\n",
       "         [165, 138, 110, 196],\n",
       "         ...,\n",
       "         [174, 145, 118, 199],\n",
       "         [184, 160, 136, 208],\n",
       "         [176, 147, 122, 199]],\n",
       "\n",
       "        [[163, 136, 109, 193],\n",
       "         [164, 139, 109, 195],\n",
       "         [175, 152, 124, 202],\n",
       "         ...,\n",
       "         [169, 136, 109, 193],\n",
       "         [170, 142, 115, 195],\n",
       "         [186, 159, 140, 207]],\n",
       "\n",
       "        ...,\n",
       "\n",
       "        [[173, 147, 122, 200],\n",
       "         [174, 149, 126, 201],\n",
       "         [170, 144, 120, 198],\n",
       "         ...,\n",
       "         [159, 129,  94, 191],\n",
       "         [159, 128,  95, 191],\n",
       "         [170, 141, 115, 199]],\n",
       "\n",
       "        [[170, 145, 115, 200],\n",
       "         [164, 136, 108, 195],\n",
       "         [174, 151, 127, 202],\n",
       "         ...,\n",
       "         [170, 141, 112, 198],\n",
       "         [170, 144, 116, 200],\n",
       "         [162, 134, 105, 192]],\n",
       "\n",
       "        [[170, 140, 117, 201],\n",
       "         [171, 145, 122, 202],\n",
       "         [170, 144, 118, 200],\n",
       "         ...,\n",
       "         [169, 141, 108, 196],\n",
       "         [164, 140, 111, 195],\n",
       "         [174, 152, 127, 202]]],\n",
       "\n",
       "\n",
       "       [[[120, 114, 114, 132],\n",
       "         [111, 105, 100, 128],\n",
       "         [ 61,  45,  25,  86],\n",
       "         ...,\n",
       "         [123, 117, 117, 155],\n",
       "         [ 93,  82,  63, 132],\n",
       "         [ 81,  82,  69, 141]],\n",
       "\n",
       "        [[121, 115, 112, 139],\n",
       "         [100,  95,  89, 131],\n",
       "         [ 79,  69,  57, 122],\n",
       "         ...,\n",
       "         [114, 107,  88, 125],\n",
       "         [133, 123, 105, 160],\n",
       "         [ 81,  82,  63, 140]],\n",
       "\n",
       "        [[116, 114, 107, 133],\n",
       "         [ 94,  87,  81, 122],\n",
       "         [ 86,  78,  77, 136],\n",
       "         ...,\n",
       "         [159, 156, 151, 180],\n",
       "         [151, 142, 138, 178],\n",
       "         [ 70,  65,  44, 112]],\n",
       "\n",
       "        ...,\n",
       "\n",
       "        [[125, 113,  93, 134],\n",
       "         [204, 205, 216, 219],\n",
       "         [217, 229, 237, 230],\n",
       "         ...,\n",
       "         [220, 235, 235, 234],\n",
       "         [222, 233, 237, 234],\n",
       "         [220, 229, 233, 231]],\n",
       "\n",
       "        [[161, 159, 155, 181],\n",
       "         [225, 233, 237, 233],\n",
       "         [216, 224, 227, 228],\n",
       "         ...,\n",
       "         [222, 231, 233, 231],\n",
       "         [225, 233, 237, 232],\n",
       "         [225, 231, 235, 231]],\n",
       "\n",
       "        [[217, 227, 229, 230],\n",
       "         [220, 224, 227, 226],\n",
       "         [219, 225, 229, 228],\n",
       "         ...,\n",
       "         [220, 231, 235, 232],\n",
       "         [225, 225, 227, 230],\n",
       "         [194, 183, 186, 206]]],\n",
       "\n",
       "\n",
       "       [[[126, 121,  99, 166],\n",
       "         [129, 122, 106, 167],\n",
       "         [127, 123, 108, 166],\n",
       "         ...,\n",
       "         [125, 123, 104, 178],\n",
       "         [125, 125, 105, 179],\n",
       "         [125, 126, 105, 179]],\n",
       "\n",
       "        [[126, 123, 102, 170],\n",
       "         [128, 122, 107, 169],\n",
       "         [131, 125, 112, 167],\n",
       "         ...,\n",
       "         [123, 122, 105, 173],\n",
       "         [122, 121, 104, 175],\n",
       "         [124, 125, 104, 175]],\n",
       "\n",
       "        [[121, 122,  94, 171],\n",
       "         [126, 122,  98, 167],\n",
       "         [129, 125, 104, 166],\n",
       "         ...,\n",
       "         [130, 129, 113, 175],\n",
       "         [126, 125, 107, 172],\n",
       "         [126, 125, 105, 172]],\n",
       "\n",
       "        ...,\n",
       "\n",
       "        [[127, 125, 110, 169],\n",
       "         [129, 128, 113, 172],\n",
       "         [123, 123, 103, 171],\n",
       "         ...,\n",
       "         [126, 124, 101, 172],\n",
       "         [127, 124, 101, 175],\n",
       "         [131, 126, 104, 175]],\n",
       "\n",
       "        [[131, 127, 113, 175],\n",
       "         [134, 133, 118, 178],\n",
       "         [123, 121, 100, 170],\n",
       "         ...,\n",
       "         [124, 121,  93, 172],\n",
       "         [129, 125, 102, 174],\n",
       "         [133, 129, 111, 178]],\n",
       "\n",
       "        [[130, 128, 107, 173],\n",
       "         [129, 126, 105, 176],\n",
       "         [126, 124, 103, 175],\n",
       "         ...,\n",
       "         [129, 123, 104, 177],\n",
       "         [133, 126, 107, 177],\n",
       "         [131, 124, 104, 171]]],\n",
       "\n",
       "\n",
       "       ...,\n",
       "\n",
       "\n",
       "       [[[145, 141, 125, 159],\n",
       "         [147, 140, 122, 159],\n",
       "         [146, 136, 122, 161],\n",
       "         ...,\n",
       "         [162, 149, 127, 169],\n",
       "         [169, 154, 133, 169],\n",
       "         [169, 150, 130, 168]],\n",
       "\n",
       "        [[147, 145, 125, 160],\n",
       "         [147, 145, 125, 160],\n",
       "         [152, 144, 126, 159],\n",
       "         ...,\n",
       "         [157, 147, 126, 169],\n",
       "         [163, 154, 130, 170],\n",
       "         [165, 151, 130, 170]],\n",
       "\n",
       "        [[149, 147, 127, 162],\n",
       "         [145, 142, 127, 161],\n",
       "         [150, 147, 130, 160],\n",
       "         ...,\n",
       "         [153, 144, 122, 168],\n",
       "         [148, 141, 124, 170],\n",
       "         [145, 137, 126, 168]],\n",
       "\n",
       "        ...,\n",
       "\n",
       "        [[200, 184, 158, 185],\n",
       "         [196, 179, 159, 183],\n",
       "         [189, 173, 150, 178],\n",
       "         ...,\n",
       "         [158, 149, 133, 169],\n",
       "         [150, 142, 127, 164],\n",
       "         [140, 142, 121, 165]],\n",
       "\n",
       "        [[195, 182, 157, 180],\n",
       "         [197, 180, 156, 179],\n",
       "         [190, 175, 152, 178],\n",
       "         ...,\n",
       "         [163, 152, 135, 168],\n",
       "         [153, 150, 130, 165],\n",
       "         [147, 146, 126, 163]],\n",
       "\n",
       "        [[202, 188, 151, 177],\n",
       "         [196, 183, 153, 176],\n",
       "         [187, 173, 148, 179],\n",
       "         ...,\n",
       "         [162, 153, 131, 167],\n",
       "         [155, 150, 130, 165],\n",
       "         [150, 145, 131, 163]]],\n",
       "\n",
       "\n",
       "       [[[151, 134, 126, 150],\n",
       "         [142, 126, 118, 143],\n",
       "         [130, 116, 104, 138],\n",
       "         ...,\n",
       "         [123, 107,  96, 130],\n",
       "         [132, 117, 106, 138],\n",
       "         [137, 123, 113, 142]],\n",
       "\n",
       "        [[130, 110,  98, 132],\n",
       "         [130, 113, 102, 135],\n",
       "         [132, 120, 111, 138],\n",
       "         ...,\n",
       "         [122, 106,  96, 127],\n",
       "         [133, 118, 108, 136],\n",
       "         [139, 124, 114, 144]],\n",
       "\n",
       "        [[137, 122, 110, 141],\n",
       "         [124, 110,  99, 133],\n",
       "         [126, 113, 105, 135],\n",
       "         ...,\n",
       "         [122, 108,  97, 128],\n",
       "         [134, 120, 109, 137],\n",
       "         [149, 134, 123, 150]],\n",
       "\n",
       "        ...,\n",
       "\n",
       "        [[170, 147, 135, 159],\n",
       "         [156, 131, 119, 149],\n",
       "         [151, 129, 111, 147],\n",
       "         ...,\n",
       "         [109, 108,  98, 140],\n",
       "         [106, 101,  93, 138],\n",
       "         [109, 104,  95, 142]],\n",
       "\n",
       "        [[155, 131, 113, 147],\n",
       "         [138, 110,  88, 133],\n",
       "         [142, 120, 100, 140],\n",
       "         ...,\n",
       "         [108, 103,  95, 136],\n",
       "         [109, 103,  95, 138],\n",
       "         [110, 104,  95, 140]],\n",
       "\n",
       "        [[150, 128, 100, 145],\n",
       "         [143, 127,  97, 145],\n",
       "         [138, 119,  93, 135],\n",
       "         ...,\n",
       "         [116, 105,  99, 136],\n",
       "         [112, 104,  96, 137],\n",
       "         [112, 105,  96, 138]]],\n",
       "\n",
       "\n",
       "       [[[158, 155, 145, 202],\n",
       "         [163, 161, 151, 209],\n",
       "         [137, 133, 109, 182],\n",
       "         ...,\n",
       "         [124, 117, 106, 159],\n",
       "         [137, 140, 128, 176],\n",
       "         [124, 124, 113, 167]],\n",
       "\n",
       "        [[138, 134, 120, 178],\n",
       "         [152, 149, 134, 193],\n",
       "         [176, 173, 157, 221],\n",
       "         ...,\n",
       "         [102,  94,  77, 137],\n",
       "         [141, 140, 128, 183],\n",
       "         [108, 105,  87, 151]],\n",
       "\n",
       "        [[130, 125, 108, 171],\n",
       "         [137, 134, 120, 184],\n",
       "         [160, 158, 143, 207],\n",
       "         ...,\n",
       "         [123, 116, 103, 162],\n",
       "         [145, 141, 132, 188],\n",
       "         [152, 150, 137, 199]],\n",
       "\n",
       "        ...,\n",
       "\n",
       "        [[148, 145, 127, 185],\n",
       "         [125, 114, 100, 158],\n",
       "         [145, 138, 122, 187],\n",
       "         ...,\n",
       "         [117, 120, 113, 155],\n",
       "         [ 84,  82,  77, 119],\n",
       "         [ 93,  91,  84, 129]],\n",
       "\n",
       "        [[146, 148, 133, 196],\n",
       "         [147, 142, 127, 192],\n",
       "         [174, 172, 158, 226],\n",
       "         ...,\n",
       "         [101, 102,  94, 132],\n",
       "         [ 99,  98,  93, 127],\n",
       "         [106, 104,  97, 134]],\n",
       "\n",
       "        [[120, 117,  99, 163],\n",
       "         [105,  97,  76, 148],\n",
       "         [173, 170, 154, 221],\n",
       "         ...,\n",
       "         [115, 116, 108, 145],\n",
       "         [ 82,  83,  69, 113],\n",
       "         [131, 136, 126, 165]]]], dtype=int64)"
      ]
     },
     "execution_count": 44,
     "metadata": {},
     "output_type": "execute_result"
    }
   ],
   "source": [
    "x_test = pd.read_csv(xtest_path)\n",
    "y_test = pd.read_csv(ytest_path)\n",
    "x_test = x_test.as_matrix()\n"
   ]
  },
  {
   "cell_type": "code",
   "execution_count": 46,
   "metadata": {},
   "outputs": [],
   "source": [
    "x_test = x_test.reshape([99999,28,28,4])\n",
    "preds = model.predict(x_test)"
   ]
  },
  {
   "cell_type": "code",
   "execution_count": 50,
   "metadata": {},
   "outputs": [
    {
     "data": {
      "text/plain": [
       "(99999, 4)"
      ]
     },
     "execution_count": 50,
     "metadata": {},
     "output_type": "execute_result"
    }
   ],
   "source": [
    "preds.shape\n",
    "y_test.shape"
   ]
  },
  {
   "cell_type": "code",
   "execution_count": 67,
   "metadata": {},
   "outputs": [
    {
     "name": "stdout",
     "output_type": "stream",
     "text": [
      "trees\n",
      "true trees\n"
     ]
    },
    {
     "name": "stderr",
     "output_type": "stream",
     "text": [
      "C:\\Users\\s164255\\anaconda3\\lib\\site-packages\\ipykernel_launcher.py:12: FutureWarning: Method .as_matrix will be removed in a future version. Use .values instead.\n",
      "  if sys.path[0] == '':\n",
      "C:\\Users\\s164255\\anaconda3\\lib\\site-packages\\ipykernel_launcher.py:14: FutureWarning: Method .as_matrix will be removed in a future version. Use .values instead.\n",
      "  \n"
     ]
    },
    {
     "data": {
      "image/png": "[encoded data removed]",
      "text/plain": [
       "<Figure size 432x288 with 1 Axes>"
      ]
     },
     "metadata": {
      "needs_background": "light"
     },
     "output_type": "display_data"
    }
   ],
   "source": [
    "imageno = 200\n",
    "plt.imshow(x_test[imageno,:,:,0:3])\n",
    "if(preds[imageno,0]==1):\n",
    "    print(\"Barren land\")\n",
    "elif(preds[imageno,1]==1):\n",
    "    print(\"trees\")\n",
    "elif(preds[imageno,2]==1):\n",
    "    print(\"grassland\")\n",
    "else:\n",
    "    print(\"other\")\n",
    "\n",
    "if(y_test.as_matrix()[imageno,0]==1):\n",
    "    print(\"true Barren land\")\n",
    "elif(y_test.as_matrix()[imageno,1]==1):\n",
    "    print(\"true trees\")\n",
    "elif(y_test.as_matrix()[imageno,2]==1):\n",
    "    print(\"true grassland\")\n",
    "else:\n",
    "    print(\"true other\")"
   ]
  },
  {
   "cell_type": "code",
   "execution_count": 85,
   "metadata": {},
   "outputs": [
    {
     "data": {
      "text/plain": [
       "0.984989849898499"
      ]
     },
     "execution_count": 85,
     "metadata": {},
     "output_type": "execute_result"
    }
   ],
   "source": [
    "A=np.round(preds)\n",
    "B = y_test.values\n",
    "np.sum((A == B).all(1))/99999"
   ]
  },
  {
   "cell_type": "code",
   "execution_count": null,
   "metadata": {},
   "outputs": [],
   "source": []
  }
 ],
 "metadata": {
  "kernelspec": {
   "display_name": "Python 3",
   "language": "python",
   "name": "python3"
  },
  "language_info": {
   "codemirror_mode": {
    "name": "ipython",
    "version": 3
   },
   "file_extension": ".py",
   "mimetype": "text/x-python",
   "name": "python",
   "nbconvert_exporter": "python",
   "pygments_lexer": "ipython3",
   "version": "3.7.3"
  }
 },
 "nbformat": 4,
 "nbformat_minor": 2
}
